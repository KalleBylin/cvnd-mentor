{
 "cells": [
  {
   "cell_type": "markdown",
   "metadata": {},
   "source": [
    "# Week 3 - Facial Keypoint Detector Project"
   ]
  },
  {
   "cell_type": "markdown",
   "metadata": {},
   "source": [
    "## Recap"
   ]
  },
  {
   "cell_type": "markdown",
   "metadata": {},
   "source": [
    "![Model](images/model.JPG)"
   ]
  },
  {
   "cell_type": "markdown",
   "metadata": {},
   "source": [
    "## Steps of an ML project/application\n",
    "\n",
    "1. **Select and define a problem**. \n",
    "2. **Get data**\n",
    "3. **Design model**\n",
    "4. **Train model**\n",
    "5. **Test model**\n",
    "6. **Deploy**\n",
    "7. **Monitor**\n",
    "8. **[Iterative] Quality Assurance**\n",
    "\n",
    "Training a model is a very iterative process, we have to cycle through different steps (Idea -> Code -> Experiment)\n",
    "\n",
    "Often you'll find that the first thing we try doesn't work very well."
   ]
  },
  {
   "cell_type": "markdown",
   "metadata": {},
   "source": [
    "  "
   ]
  },
  {
   "cell_type": "markdown",
   "metadata": {},
   "source": [
    "  "
   ]
  },
  {
   "cell_type": "markdown",
   "metadata": {},
   "source": [
    "### Example 1: Day/Night classifier\n",
    "\n",
    "- Problem/Goal \n",
    "- Get data\n",
    "- Design Model"
   ]
  },
  {
   "cell_type": "markdown",
   "metadata": {},
   "source": [
    "  "
   ]
  },
  {
   "cell_type": "markdown",
   "metadata": {},
   "source": [
    "**Answers:**"
   ]
  },
  {
   "cell_type": "markdown",
   "metadata": {},
   "source": [
    "### Example 2: Facial Keypoint Classifier\n",
    "\n",
    "![Facial keypoints](images/key_pts_example.png)\n",
    "\n",
    "- Problem/Goal \n",
    "- Get data\n",
    "- Design Model"
   ]
  },
  {
   "cell_type": "markdown",
   "metadata": {},
   "source": [
    "**Answers:**"
   ]
  },
  {
   "cell_type": "markdown",
   "metadata": {},
   "source": [
    "  "
   ]
  },
  {
   "cell_type": "markdown",
   "metadata": {},
   "source": [
    "  "
   ]
  },
  {
   "cell_type": "markdown",
   "metadata": {},
   "source": [
    "## How to tackle your project?\n",
    "- **Build your first system quickly and iterate!**\n",
    "- Error analysis\n",
    "- Compare bias vs variance and optimal error rate"
   ]
  },
  {
   "cell_type": "markdown",
   "metadata": {},
   "source": [
    "**Error analysis**\n",
    "\n",
    "| Type  | % Misclassified of total |\n",
    "| --- | --- |\n",
    "| Male images | 5% |\n",
    "| Female images | 5% |\n",
    "| Close images | 1% |\n",
    "| Farther distance | 15% |\n",
    "| Blurry images | 10% |\n",
    "\n",
    "\n",
    "\n",
    "**Bias vs variance**\n",
    "\n",
    "\n",
    "|Optimal error | Training error  | Validation error | Problem |\n",
    "| --- | --- | --- | --- |\n",
    "| 4.5% | 4.8% | 5% | ?\n",
    "| 4.5% | 5% | 15% | ?\n",
    "| 4.5% | 14% | 15% | ?\n",
    "| 4.5% | 14% | 25% | ?"
   ]
  },
  {
   "cell_type": "markdown",
   "metadata": {},
   "source": [
    "## Possible solutions\n",
    "- High Bias\n",
    "- High Variance"
   ]
  },
  {
   "cell_type": "markdown",
   "metadata": {},
   "source": [
    "**Interesting project**\n",
    "\n",
    "- Interest\n",
    "- Data availability (Can a human do this well?)\n",
    "- Domain knowledge\n",
    "- Uitlity\n",
    "- Feasibility"
   ]
  },
  {
   "cell_type": "markdown",
   "metadata": {},
   "source": [
    "Many of the devices are edge devices (due to privacy, cost, etc.)\n",
    "\n",
    "Deep learning models often are quite computationally expensive due to the huge amount of parameters. "
   ]
  },
  {
   "cell_type": "markdown",
   "metadata": {},
   "source": [
    "## Resources\n",
    "\n",
    "- **Optimizers:** http://ruder.io/optimizing-gradient-descent/\n",
    "- **Data augmentation:** https://pytorch.org/tutorials/beginner/data_loading_tutorial.html#transforms\n",
    "- **Improve face and eye detectors (Haar Cascades):** https://www.learnopencv.com/training-better-haar-lbp-cascade-eye-detector-opencv/\n",
    "- **Face detector comparison:** https://www.learnopencv.com/face-detection-opencv-dlib-and-deep-learning-c-python/"
   ]
  },
  {
   "cell_type": "code",
   "execution_count": null,
   "metadata": {},
   "outputs": [],
   "source": []
  }
 ],
 "metadata": {
  "kernelspec": {
   "display_name": "Python 3",
   "language": "python",
   "name": "python3"
  },
  "language_info": {
   "codemirror_mode": {
    "name": "ipython",
    "version": 3
   },
   "file_extension": ".py",
   "mimetype": "text/x-python",
   "name": "python",
   "nbconvert_exporter": "python",
   "pygments_lexer": "ipython3",
   "version": "3.6.5"
  }
 },
 "nbformat": 4,
 "nbformat_minor": 2
}
