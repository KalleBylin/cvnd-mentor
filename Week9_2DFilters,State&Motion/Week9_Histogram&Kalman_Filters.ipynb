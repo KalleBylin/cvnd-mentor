{
 "cells": [
  {
   "cell_type": "markdown",
   "metadata": {},
   "source": [
    "# 2D Histogram and Kalman Filters"
   ]
  },
  {
   "cell_type": "markdown",
   "metadata": {},
   "source": [
    "- 2D Histogram Filters\n",
    "- Kalman Filters\n",
    "- Representing state & motion"
   ]
  },
  {
   "cell_type": "markdown",
   "metadata": {},
   "source": [
    "![Craven](https://static01.nyt.com/images/2015/02/19/us/19craven-obit/19craven-obit-facebookJumbo.jpg)\n",
    "\n",
    "John Craven"
   ]
  },
  {
   "cell_type": "markdown",
   "metadata": {},
   "source": [
    "A prori\n",
    "\n",
    "![priori](images/priori.jpg)"
   ]
  },
  {
   "cell_type": "markdown",
   "metadata": {},
   "source": [
    "Update\n",
    "\n",
    "![up](images/update.jpg)"
   ]
  },
  {
   "cell_type": "markdown",
   "metadata": {},
   "source": [
    "A posteriori\n",
    "\n",
    "![post](images/posteriori.jpg)"
   ]
  },
  {
   "cell_type": "markdown",
   "metadata": {},
   "source": [
    "## Kalman Filter\n",
    "\n",
    "A tool to **combine information** in the presence of **uncertainty**\n",
    "\n",
    "It is a two-stage filter:\n",
    "1. Prediction\n",
    "2. Correction (Update)"
   ]
  },
  {
   "cell_type": "markdown",
   "metadata": {},
   "source": [
    "In a simple case our **state** contains only the position and velocity of our robot:\n",
    "\n",
    "$$\n",
    "\\vec{x} = \\begin{bmatrix}\n",
    "p\\\\\n",
    "v\n",
    "\\end{bmatrix}$$"
   ]
  },
  {
   "cell_type": "markdown",
   "metadata": {},
   "source": [
    "Given uncertain or inaccurate information we might end up with an undesired result \n",
    "\n",
    "![Fall](https://www.bzarg.com/wp-content/uploads/2015/08/robot_ohnoes.png)"
   ]
  },
  {
   "cell_type": "markdown",
   "metadata": {},
   "source": [
    "Possible combinations of position and velocity:\n",
    "\n",
    "![PV](https://www.bzarg.com/wp-content/uploads/2015/08/gauss_0-287x300.png)\n",
    "![PV2](https://www.bzarg.com/wp-content/uploads/2015/08/gauss_1-300x267.png)\n",
    "\n",
    "Source: https://www.bzarg.com"
   ]
  },
  {
   "cell_type": "markdown",
   "metadata": {},
   "source": [
    "We don't know the actual position, but we understand that some combinations of position and velocity are more likely than others.\n",
    "\n",
    "Both variables are assumed to be **random and with a Gaussian distirbution**. Each variable has:\n",
    "- a **mean** corresponding to the most likely state\n",
    "- a **variance** corresponding to the uncertainty\n"
   ]
  },
  {
   "cell_type": "markdown",
   "metadata": {},
   "source": [
    "![Correlated](https://www.bzarg.com/wp-content/uploads/2015/08/gauss_2-300x276.png)"
   ]
  },
  {
   "cell_type": "markdown",
   "metadata": {},
   "source": [
    "So know we have an estimate of our state vector and we have the covariance matrix:\n",
    "\n",
    "$$\n",
    "\\begin{equation} \\label{eq:statevars}\n",
    "\\begin{aligned}\n",
    "\\mathbf{\\hat{x}}_k &= \\begin{bmatrix}\n",
    "\\text{position}\\\\\n",
    "\\text{velocity}\n",
    "\\end{bmatrix}\\\\\n",
    "\\mathbf{P}_k &=\n",
    "\\begin{bmatrix}\n",
    "\\Sigma_{pp} & \\Sigma_{pv} \\\\\n",
    "\\Sigma_{vp} & \\Sigma_{vv} \\\\\n",
    "\\end{bmatrix}\n",
    "\\end{aligned}\n",
    "\\end{equation}\n",
    "$$"
   ]
  },
  {
   "cell_type": "markdown",
   "metadata": {},
   "source": [
    "### Step 1: Prediction"
   ]
  },
  {
   "cell_type": "markdown",
   "metadata": {},
   "source": [
    "![Prediction](https://www.bzarg.com/wp-content/uploads/2015/08/gauss_7-300x276.jpg)\n",
    "![KF](images/kf.jpg)\n",
    "\n",
    "Source: Self-Driving Car Specialization Resources on Coursera by University of Toronto"
   ]
  },
  {
   "cell_type": "markdown",
   "metadata": {},
   "source": [
    "![Matrix prediction](https://www.bzarg.com/wp-content/uploads/2015/08/gauss_8-300x276.jpg)"
   ]
  },
  {
   "cell_type": "markdown",
   "metadata": {},
   "source": [
    "So, we have our previous state at time *k-1*:\n",
    "\n",
    "$$\n",
    "\\begin{equation} \\label{eq:statevars}\n",
    "\\begin{aligned}\n",
    "\\color{royalblue}{\\mathbf{\\hat{x}}_{k-1}} &=\n",
    "\\begin{bmatrix}\n",
    "p_{k-1} \\\\\n",
    "v_{k-1} \\\\\n",
    "\\end{bmatrix}\n",
    "\\end{aligned}\n",
    "\\end{equation}\n",
    "$$\n",
    "\n",
    "Now we want to predict our state at time *k*. For this we can first think about the underlying formulas which describe what we know about how the car should move:\n",
    "\n",
    "$$\n",
    "\\begin{split}\n",
    "{p_k} &= \\color{royalblue}{p_{k-1}} + \\Delta t &\\color{royalblue}{v_{k-1}} \\\\\n",
    "{v_k} &= &\\color{royalblue}{v_{k-1}}\n",
    "\\end{split}\n",
    "$$ \n",
    "\n",
    "\n",
    "Then we can see this formulas as a matrix multiplication: \n",
    "\n",
    "$$\n",
    "\\begin{align}\n",
    "{\\mathbf{\\hat{x}}_k} &= \\begin{bmatrix}\n",
    "1 & \\Delta t \\\\\n",
    "0 & 1\n",
    "\\end{bmatrix} \\color{royalblue}{\\mathbf{\\hat{x}}_{k-1}} \\\\\n",
    "&= \\mathbf{F}_k \\color{royalblue}{\\mathbf{\\hat{x}}_{k-1}} \\label{statevars}\n",
    "\\end{align}\n",
    "$$"
   ]
  },
  {
   "cell_type": "markdown",
   "metadata": {},
   "source": [
    "To avoid confusion. Sigma is often used to mean \"sum\", but it is also often used as the name for a covariance matrix. \n",
    "\n",
    "$$\n",
    "\\begin{equation}\n",
    "\\begin{split}\n",
    "Cov(x) &= \\Sigma\\\\\n",
    "Cov(\\color{firebrick}{\\mathbf{F}}x) &= \\color{firebrick}{\\mathbf{F}} \\Sigma \\color{firebrick}{\\mathbf{F}}^T\n",
    "\\end{split} \\label{covident}\n",
    "\\end{equation}\n",
    "$$\n",
    "\n",
    "Applied to our case we get:\n",
    "\n",
    "$$\n",
    "\\begin{equation}\n",
    "\\begin{split}\n",
    "{\\mathbf{\\hat{x}}_k} &= \\mathbf{F}_k \\color{royalblue}{\\mathbf{\\hat{x}}_{k-1}} \\\\\n",
    "{\\mathbf{P}_k} &= \\mathbf{F_k} \\color{royalblue}{\\mathbf{P}_{k-1}} \\mathbf{F}_k^T\n",
    "\\end{split}\n",
    "\\end{equation}\n",
    "$$"
   ]
  },
  {
   "cell_type": "markdown",
   "metadata": {},
   "source": [
    "**Additional information by known external forces**"
   ]
  },
  {
   "cell_type": "markdown",
   "metadata": {},
   "source": [
    "Imagine that we also can know the expected acceleration of our car:\n",
    "\n",
    "$$\n",
    "\\begin{split}\n",
    "\\color{deeppink}{p_k} &= \\color{royalblue}{p_{k-1}} + {\\Delta t} &\\color{royalblue}{v_{k-1}} + &\\frac{1}{2} \\color{darkorange}{a} {\\Delta t}^2 \\\\\n",
    "\\color{deeppink}{v_k} &= &\\color{royalblue}{v_{k-1}} + & \\color{darkorange}{a} {\\Delta t}\n",
    "\\end{split}\n",
    "$$ In matrix form: $$\n",
    "\\begin{equation}\n",
    "\\begin{split}\n",
    "\\color{deeppink}{\\mathbf{\\hat{x}}_k} &= \\mathbf{F}_k \\color{royalblue}{\\mathbf{\\hat{x}}_{k-1}} + \\begin{bmatrix}\n",
    "\\frac{\\Delta t^2}{2} \\\\\n",
    "\\Delta t\n",
    "\\end{bmatrix} \\color{darkorange}{a} \\\\\n",
    "&= \\mathbf{F}_k \\color{royalblue}{\\mathbf{\\hat{x}}_{k-1}} + \\mathbf{B}_k \\color{darkorange}{\\vec{\\mathbf{u}_k}}\n",
    "\\end{split}\n",
    "\\end{equation}\n",
    "$$"
   ]
  },
  {
   "cell_type": "markdown",
   "metadata": {},
   "source": [
    "Here \n",
    "$$\\mathbf{B}_k $$ is called the control matrix and $$\\color{darkorange}{\\vec{\\mathbf{u}_k}} $$ the control vector."
   ]
  },
  {
   "cell_type": "markdown",
   "metadata": {},
   "source": [
    "**Additional information by unknown external forces**"
   ]
  },
  {
   "cell_type": "markdown",
   "metadata": {},
   "source": [
    "![External unknown](https://www.bzarg.com/wp-content/uploads/2015/08/gauss_10a.jpg)"
   ]
  },
  {
   "cell_type": "markdown",
   "metadata": {},
   "source": [
    "To take this into account we can model these unknown external forces by adding noise **Q** to our covariance:\n",
    "\n",
    "$$\n",
    "\\begin{equation}\n",
    "\\begin{split}\n",
    "\\color{deeppink}{\\mathbf{\\hat{x}}_k} &= \\mathbf{F}_k \\color{royalblue}{\\mathbf{\\hat{x}}_{k-1}} + \\mathbf{B}_k \\color{darkorange}{\\vec{\\mathbf{u}_k}} \\\\\n",
    "\\color{deeppink}{\\mathbf{P}_k} &= \\mathbf{F_k} \\color{royalblue}{\\mathbf{P}_{k-1}} \\mathbf{F}_k^T + \\color{mediumaquamarine}{\\mathbf{Q}_k}\n",
    "\\end{split}\n",
    "\\label{kalpredictfull}\n",
    "\\end{equation}\n",
    "$$"
   ]
  },
  {
   "cell_type": "markdown",
   "metadata": {},
   "source": [
    "![Q](https://www.bzarg.com/wp-content/uploads/2015/08/gauss_10b-300x300.jpg)"
   ]
  },
  {
   "cell_type": "markdown",
   "metadata": {},
   "source": [
    "**Final result:** \n",
    "- The **new best estimate** is a prediction made from the previous best estimate, plus a correction for known external influences.\n",
    "\n",
    "- The **new uncertainty** is predicted from the old uncertainty, with some additional uncertainty from the environment."
   ]
  },
  {
   "cell_type": "markdown",
   "metadata": {},
   "source": [
    "### Step 2: Correction"
   ]
  },
  {
   "cell_type": "markdown",
   "metadata": {},
   "source": [
    "Applying our measurements to our prediction is similar to calculating the prediction given the previous state:\n",
    "\n",
    "![Measurements](https://www.bzarg.com/wp-content/uploads/2015/08/gauss_13.jpg)\n",
    "![Uncertainty](https://www.bzarg.com/wp-content/uploads/2015/08/gauss_14.jpg)"
   ]
  },
  {
   "cell_type": "markdown",
   "metadata": {},
   "source": [
    "Now we have the Gaussian distribution corresponding to our prediction and the Gaussian distribution corresponding to the sensor measurements:\n",
    "\n",
    "![Two](https://www.bzarg.com/wp-content/uploads/2015/08/gauss_4-300x276.jpg)\n",
    "\n",
    "$$\n",
    "\\begin{equation}\n",
    "\\begin{aligned}\n",
    "\\vec{\\mu}_{\\text{expected}} = \\mathbf{H}_k \\color{deeppink}{\\mathbf{\\hat{x}}_k} \\\\\n",
    "\\mathbf{\\Sigma}_{\\text{expected}} = \\mathbf{H}_k \\color{deeppink}{\\mathbf{P}_k} \\mathbf{H}_k^T\n",
    "\\end{aligned}\n",
    "\\end{equation}\n",
    "$$"
   ]
  },
  {
   "cell_type": "markdown",
   "metadata": {},
   "source": [
    "Multiplying them together gives us the overlap:\n",
    "\n",
    "![Overlap](https://www.bzarg.com/wp-content/uploads/2015/08/gauss_6-300x276.png)"
   ]
  },
  {
   "cell_type": "markdown",
   "metadata": {},
   "source": [
    "How does it work and where do these come from?:\n",
    "\n",
    "![Form](images/equations.jpg)\n",
    "\n",
    "Source: Self-Driving Car Specialization by Toronto University"
   ]
  },
  {
   "cell_type": "markdown",
   "metadata": {},
   "source": [
    "Let's take a look at how we can multiply two one-dimensional Gaussian curves together:\n",
    "\n",
    "![1DGauss](https://www.bzarg.com/wp-content/uploads/2015/08/gauss_joint.png)\n",
    "\n",
    "Normal distribution formula:\n",
    "\n",
    "$$\n",
    "\\begin{equation} \\label{gaussformula}\n",
    "\\mathcal{N}(x, \\mu,\\sigma) = \\frac{1}{ \\sigma \\sqrt{ 2\\pi } } e^{ -\\frac{ (x \\mu)^2 }{ 2\\sigma^2 } }\n",
    "\\end{equation}\n",
    "$$\n",
    "\n",
    "We multiply both curves:\n",
    "\n",
    "$$\\begin{equation} \\label{gaussequiv}\n",
    "\\mathcal{N}(x, \\color{fuchsia}{\\mu_0}, \\color{deeppink}{\\sigma_0}) \\cdot \\mathcal{N}(x, \\color{yellowgreen}{\\mu_1}, \\color{mediumaquamarine}{\\sigma_1}) \\stackrel{?}{=} \\mathcal{N}(x, \\color{royalblue}{\\mu}, \\color{mediumblue}{\\sigma})\n",
    "\\end{equation}$$\n",
    "\n",
    "After plugging in the normal distribution equation into this equality we can apply algebra and re-write it like this:\n",
    "\n",
    "$$\n",
    "\\begin{equation} \\label{fusionformula}\n",
    "\\begin{aligned}\n",
    "\\color{royalblue}{\\mu} = \\mu_0 + \\frac{\\sigma_0^2 (\\mu_1 - \\mu_0)} {\\sigma_0^2 + \\sigma_1^2}\\\\\n",
    "\\color{mediumblue}{\\sigma}^2 = \\sigma_0^2 - \\frac{\\sigma_0^4} {\\sigma_0^2 + \\sigma_1^2}\n",
    "\\end{aligned}\n",
    "\\end{equation}$$\n",
    "\n",
    "In both equations this part is repeated:\n",
    "\n",
    "$$\n",
    "\\begin{equation} \\label{gainformula}\n",
    "\\color{purple}{\\mathbf{k}} = \\frac{\\sigma_0^2}{\\sigma_0^2 + \\sigma_1^2}\n",
    "\\end{equation} $$\n",
    "\n",
    "Now we can simplify our equations by substituting this repeated part by the variable *k*:\n",
    "\n",
    "$$\n",
    "\\begin{equation}\n",
    "\\begin{split}\n",
    "\\color{royalblue}{\\mu} = \\mu_0 + \\color{purple}{\\mathbf{k}} (\\mu_1 - \\mu_0)\\\\\n",
    "\\color{mediumblue}{\\sigma}^2 = \\sigma_0^2 - \\color{purple}{\\mathbf{k}} \\sigma_0^2\n",
    "\\end{split} \\label{update}\n",
    "\\end{equation} $$\n",
    "\n",
    "And finally we re-write this into matrix form to generalize for more dimensions:\n",
    "\n",
    "$$\n",
    "\\begin{equation} \\label{matrixgain}\n",
    "\\color{purple}{\\mathbf{K}} = \\Sigma_0 (\\Sigma_0 + \\Sigma_1)^{-1}\n",
    "\\end{equation} $$ \n",
    "\n",
    "$$\n",
    "\\begin{equation}\n",
    "\\begin{split}\n",
    "\\color{royalblue}{\\vec{\\mu}} = \\vec{\\mu_0} + \\color{purple}{\\mathbf{K}} (\\vec{\\mu_1} - \\vec{\\mu_0})\\\\\n",
    "\\color{mediumblue}{\\Sigma} = \\Sigma_0 - \\color{purple}{\\mathbf{K}} \\Sigma_0\n",
    "\\end{split} \\label{matrixupdate}\n",
    "\\end{equation}\n",
    "$$"
   ]
  },
  {
   "cell_type": "markdown",
   "metadata": {},
   "source": [
    "Remember that our two Gaussian estimates were:\n",
    "\n",
    "$$(\\color{fuchsia}{\\mu_0}, \\color{deeppink}{\\Sigma_0}) = (\\color{fuchsia}{\\mathbf{H}_k \\mathbf{\\hat{x}}_k}, \\color{deeppink}{\\mathbf{H}_k \\mathbf{P}_k \\mathbf{H}_k^T})$$\n",
    "\n",
    "And $$ (\\color{yellowgreen}{\\mu_1}, \\color{mediumaquamarine}{\\Sigma_1}) = (\\color{yellowgreen}{\\vec{\\mathbf{z}_k}}, \\color{mediumaquamarine}{\\mathbf{R}_k})$$"
   ]
  },
  {
   "cell_type": "markdown",
   "metadata": {},
   "source": [
    "$$\n",
    "\\begin{equation}\n",
    "\\begin{aligned}\n",
    "\\mathbf{H}_k \\color{royalblue}{\\mathbf{\\hat{x}}_k'} = \\color{fuchsia}{\\mathbf{H}_k \\mathbf{\\hat{x}}_k} + \\color{purple}{\\mathbf{K}} ( \\color{yellowgreen}{\\vec{\\mathbf{z}_k}} - \\color{fuchsia}{\\mathbf{H}_k \\mathbf{\\hat{x}}_k} ) \\\\\n",
    "\\mathbf{H}_k \\color{royalblue}{\\mathbf{P}_k'} \\mathbf{H}_k^T = \\color{deeppink}{\\mathbf{H}_k \\mathbf{P}_k \\mathbf{H}_k^T} \\color{purple} -{\\mathbf{K}} \\color{deeppink}{\\mathbf{H}_k \\mathbf{P}_k \\mathbf{H}_k^T}\n",
    "\\end{aligned} \\label {kalunsimplified}\n",
    "\\end{equation}\n",
    "$$\n",
    "\n",
    "$$\n",
    "\\begin{equation} \\label{eq:kalgainunsimplified}\n",
    "\\color{purple}{\\mathbf{K}} = \\color{deeppink}{\\mathbf{H}_k \\mathbf{P}_k \\mathbf{H}_k^T} ( \\color{deeppink}{\\mathbf{H}_k \\mathbf{P}_k \\mathbf{H}_k^T} + \\color{mediumaquamarine}{\\mathbf{R}_k})^{-1}\n",
    "\\end{equation}\n",
    "$$"
   ]
  },
  {
   "cell_type": "markdown",
   "metadata": {},
   "source": [
    "We can simplify the equations by taking away Hk and the transpose from both sides of the equality \n",
    "\n",
    "$$\n",
    "\\begin{equation}\n",
    "\\begin{split}\n",
    "\\color{royalblue}{\\mathbf{\\hat{x}}_k'} = \\color{fuchsia}{\\mathbf{\\hat{x}}_k} + \\color{purple}{\\mathbf{K'}} ( \\color{yellowgreen}{\\vec{\\mathbf{z}_k}} - \\color{fuchsia}{\\mathbf{H}_k \\mathbf{\\hat{x}}_k} ) \\\\\n",
    "\\color{royalblue}{\\mathbf{P}_k'} = \\color{deeppink}{\\mathbf{P}_k} - \\color{purple}{\\mathbf{K'}} \\color{deeppink}{\\mathbf{H}_k \\mathbf{P}_k}\n",
    "\\end{split}\n",
    "\\label{kalupdatefull}\n",
    "\\end{equation} $$ \n",
    "\n",
    "$$\n",
    "\\begin{equation}\n",
    "\\color{purple}{\\mathbf{K'}} = \\color{deeppink}{\\mathbf{P}_k \\mathbf{H}_k^T} ( \\color{deeppink}{\\mathbf{H}_k \\mathbf{P}_k \\mathbf{H}_k^T} + \\color{mediumaquamarine}{\\mathbf{R}_k})^{-1}\n",
    "\\label{kalgainfull}\n",
    "\\end{equation}\n",
    "$$"
   ]
  },
  {
   "cell_type": "code",
   "execution_count": null,
   "metadata": {},
   "outputs": [],
   "source": []
  },
  {
   "cell_type": "markdown",
   "metadata": {},
   "source": [
    "More resources on the Kalman Filter:\n",
    "- https://www.bzarg.com/p/how-a-kalman-filter-works-in-pictures/"
   ]
  }
 ],
 "metadata": {
  "kernelspec": {
   "display_name": "Python 3",
   "language": "python",
   "name": "python3"
  },
  "language_info": {
   "codemirror_mode": {
    "name": "ipython",
    "version": 3
   },
   "file_extension": ".py",
   "mimetype": "text/x-python",
   "name": "python",
   "nbconvert_exporter": "python",
   "pygments_lexer": "ipython3",
   "version": "3.6.5"
  }
 },
 "nbformat": 4,
 "nbformat_minor": 2
}
