{
 "cells": [
  {
   "cell_type": "markdown",
   "metadata": {},
   "source": [
    "# Week 10: Matrices & SLAM"
   ]
  },
  {
   "cell_type": "markdown",
   "metadata": {},
   "source": [
    "- Matrices & Transformation\n",
    "- Simultaneous Localization and Mapping"
   ]
  },
  {
   "cell_type": "markdown",
   "metadata": {},
   "source": [
    "## Matrices & Transformation"
   ]
  },
  {
   "cell_type": "markdown",
   "metadata": {},
   "source": [
    "### Linear algebra gives you mini-spreadsheets for your math equations\n",
    "\n",
    "Source: https://betterexplained.com/"
   ]
  },
  {
   "cell_type": "markdown",
   "metadata": {},
   "source": [
    "![Algebra](data:image/png;base64,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)\n",
    "\n",
    "\n",
    "**Linear algebra: A tool to restore what is missing from broken parts** "
   ]
  },
  {
   "cell_type": "markdown",
   "metadata": {},
   "source": [
    "![Math](https://s3-ap-southeast-2.amazonaws.com/particle.com.au/app/uploads/2017/10/09153553/u5HhK.png)"
   ]
  },
  {
   "cell_type": "code",
   "execution_count": 1,
   "metadata": {},
   "outputs": [
    {
     "name": "stdout",
     "output_type": "stream",
     "text": [
      "30\n",
      "30\n"
     ]
    }
   ],
   "source": [
    "## F(a*x) = a*F(x)\n",
    "## F(x + y) = F(x) + F(y)\n",
    "\n",
    "## F(x) = 2*x\n",
    "\n",
    "## F(5*3) = 5*F(3)\n",
    "\n",
    "print(2*(5*3))\n",
    "print(5*(2*3))"
   ]
  },
  {
   "cell_type": "code",
   "execution_count": 2,
   "metadata": {},
   "outputs": [
    {
     "name": "stdout",
     "output_type": "stream",
     "text": [
      "18\n",
      "30\n"
     ]
    }
   ],
   "source": [
    "## F(x) = x+3\n",
    "print((5*3)+3)\n",
    "print(5*(3+3))"
   ]
  },
  {
   "cell_type": "markdown",
   "metadata": {},
   "source": [
    "![Multiple](https://betterexplained.com/wp-content/plugins/wp-latexrender/pictures/9ae605d8349f11e71a75b0c9cb849bc6.png)\n",
    "\n",
    "![Multiple2](https://betterexplained.com/wp-content/plugins/wp-latexrender/pictures/495b6ea1b9badbcb0db15ceb21899159.png)"
   ]
  },
  {
   "cell_type": "code",
   "execution_count": null,
   "metadata": {},
   "outputs": [],
   "source": [
    "distance = 10\n",
    "velocity = 1\n",
    "\n",
    "state = [distance, velocity]"
   ]
  },
  {
   "cell_type": "markdown",
   "metadata": {},
   "source": [
    "Our equations as we usually right them:\n",
    "\n",
    "$$\n",
    "\\begin{split}\n",
    "{x_{t+1}} &= \\color{royalblue}{x_t} + \\Delta t &\\color{royalblue}{v_t} \\\\\n",
    "{v_{t+1}} &= &\\color{royalblue}{v_t}\n",
    "\\end{split}\n",
    "$$ "
   ]
  },
  {
   "cell_type": "markdown",
   "metadata": {},
   "source": [
    "The same equations using vectors and matrices:\n",
    "\n",
    "![Matrix](images/matrix_mult.jpg)"
   ]
  },
  {
   "cell_type": "markdown",
   "metadata": {},
   "source": [
    "![Mat](https://betterexplained.com/wp-content/uploads/images//linear-algebra-visualize-20121002-221620.png)\n",
    "\n"
   ]
  },
  {
   "cell_type": "markdown",
   "metadata": {},
   "source": [
    "It's as if we were taking a cup of input data and pouring it into our equations to get the result:\n",
    "\n",
    "![Pour](https://betterexplained.com/wp-content/uploads/images//linear-algebra-pour-20121002-220550.png)"
   ]
  },
  {
   "cell_type": "code",
   "execution_count": 7,
   "metadata": {},
   "outputs": [
    {
     "name": "stdout",
     "output_type": "stream",
     "text": [
      "[4 5 6] \n",
      "\n",
      "[[1 0 0]\n",
      " [0 1 0]\n",
      " [0 0 1]]\n"
     ]
    },
    {
     "data": {
      "text/plain": [
       "array([4, 5, 6])"
      ]
     },
     "execution_count": 7,
     "metadata": {},
     "output_type": "execute_result"
    }
   ],
   "source": [
    "import numpy as np\n",
    "\n",
    "a = np.array([4,5,6])\n",
    "B = np.array([[1,0,0],[0,1,0],[0,0,1]])\n",
    "\n",
    "print(a, '\\n')\n",
    "print(B)\n",
    "a.dot(B)"
   ]
  },
  {
   "cell_type": "code",
   "execution_count": 8,
   "metadata": {},
   "outputs": [
    {
     "name": "stdout",
     "output_type": "stream",
     "text": [
      "[4 5 6] \n",
      "\n",
      "[[1 0 0]\n",
      " [0 0 1]\n",
      " [0 1 0]]\n"
     ]
    },
    {
     "data": {
      "text/plain": [
       "array([4, 6, 5])"
      ]
     },
     "execution_count": 8,
     "metadata": {},
     "output_type": "execute_result"
    }
   ],
   "source": [
    "C = np.array([[1,0,0],[0,0,1],[0,1,0]])\n",
    "\n",
    "print(a, '\\n')\n",
    "print(C)\n",
    "a.dot(C)"
   ]
  },
  {
   "cell_type": "markdown",
   "metadata": {},
   "source": [
    "Our operations matrix transforms our input vector (or input matrix):\n",
    "\n",
    "![Matrix prediction](https://www.bzarg.com/wp-content/uploads/2015/08/gauss_8-300x276.jpg)"
   ]
  },
  {
   "cell_type": "markdown",
   "metadata": {},
   "source": [
    "What about the transpose and the inverse?\n",
    "\n",
    "![Transpose](https://betterexplained.com/wp-content/uploads/linear-algebra/x-transform-x.png)"
   ]
  },
  {
   "cell_type": "code",
   "execution_count": 9,
   "metadata": {},
   "outputs": [
    {
     "data": {
      "text/plain": [
       "0.2"
      ]
     },
     "execution_count": 9,
     "metadata": {},
     "output_type": "execute_result"
    }
   ],
   "source": [
    "5*(1/5)"
   ]
  },
  {
   "cell_type": "markdown",
   "metadata": {},
   "source": [
    "## SLAM"
   ]
  },
  {
   "cell_type": "markdown",
   "metadata": {},
   "source": [
    "![Constraints](images/constraints.jpg)"
   ]
  },
  {
   "cell_type": "markdown",
   "metadata": {},
   "source": [
    "SLAM\n",
    "- Landmark extraction\n",
    "- Data association\n",
    "- State estimation\n",
    "- State update\n",
    "- Landmark update"
   ]
  },
  {
   "cell_type": "markdown",
   "metadata": {},
   "source": [
    "![Process](images/ekf_slam.jpg)\n",
    "\n",
    "Source: https://dspace.mit.edu"
   ]
  },
  {
   "cell_type": "markdown",
   "metadata": {},
   "source": [
    "Previous position:\n",
    "![1](images/1.jpg)\n",
    "\n",
    "Moves and predicts new position:\n",
    "![2](images/2.jpg)\n",
    "\n",
    "Scans environment to find landmarks:\n",
    "![3](images/3.jpg)\n",
    "\n",
    "Uses measurements to update/correct the position estimate:\n",
    "![4](images/4.jpg)"
   ]
  },
  {
   "cell_type": "markdown",
   "metadata": {},
   "source": [
    "**Landmarks** should be:\n",
    "- Easily re-observable\n",
    "- Unique (distinguishable)\n",
    "- Plentiful\n",
    "- Stationary\n"
   ]
  },
  {
   "cell_type": "markdown",
   "metadata": {},
   "source": [
    "What can we use as landmarks here?\n",
    "\n",
    "![Room](https://www.distant-horizons.de/blog/03_last_preparations/apartment.jpg)"
   ]
  },
  {
   "cell_type": "markdown",
   "metadata": {},
   "source": [
    "SLAM steps in more detail:\n",
    "\n",
    "- **Landmark Extraction**\n",
    "\n",
    "- **Data Association**\n",
    "    - We might not re-observe landmarks at every time step\n",
    "    - We might observe something as being a landmakr but fail to ever see it again\n",
    "    - We might wrongly associate a landmark to a previosuly seen landmark\n",
    "\n",
    "- **State Estimation and State Update**\n",
    "\n",
    "- **Landmark Update**"
   ]
  },
  {
   "cell_type": "markdown",
   "metadata": {},
   "source": [
    "The state now becomes more complex, luckily we have our vectors to handle this:\n",
    "\n",
    "![new state](images/state.jpg)"
   ]
  },
  {
   "cell_type": "code",
   "execution_count": null,
   "metadata": {},
   "outputs": [],
   "source": []
  }
 ],
 "metadata": {
  "kernelspec": {
   "display_name": "Python 3",
   "language": "python",
   "name": "python3"
  },
  "language_info": {
   "codemirror_mode": {
    "name": "ipython",
    "version": 3
   },
   "file_extension": ".py",
   "mimetype": "text/x-python",
   "name": "python",
   "nbconvert_exporter": "python",
   "pygments_lexer": "ipython3",
   "version": "3.7.3"
  }
 },
 "nbformat": 4,
 "nbformat_minor": 2
}
