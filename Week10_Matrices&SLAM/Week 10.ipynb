{
 "cells": [
  {
   "cell_type": "markdown",
   "metadata": {},
   "source": [
    "# Week 10: Matrices & SLAM"
   ]
  },
  {
   "cell_type": "markdown",
   "metadata": {},
   "source": [
    "- Matrices & Transformation\n",
    "- Simultaneous Localization and Mapping"
   ]
  },
  {
   "cell_type": "markdown",
   "metadata": {},
   "source": [
    "## Matrices & Transformation"
   ]
  },
  {
   "cell_type": "markdown",
   "metadata": {},
   "source": [
    "### Linear algebra gives you mini-spreadsheets for your math equations\n",
    "\n",
    "Source: https://betterexplained.com/"
   ]
  },
  {
   "cell_type": "markdown",
   "metadata": {},
   "source": [
    "![Algebra](images/algebra.jpg)\n",
    "\n",
    "\n",
    "**Linear algebra: A tool to restore what is missing from broken parts** "
   ]
  },
  {
   "cell_type": "markdown",
   "metadata": {},
   "source": [
    "![Math](https://s3-ap-southeast-2.amazonaws.com/particle.com.au/app/uploads/2017/10/09153553/u5HhK.png)"
   ]
  },
  {
   "cell_type": "code",
   "execution_count": 1,
   "metadata": {},
   "outputs": [
    {
     "name": "stdout",
     "output_type": "stream",
     "text": [
      "30\n",
      "30\n"
     ]
    }
   ],
   "source": [
    "## F(a*x) = a*F(x)\n",
    "## F(x + y) = F(x) + F(y)\n",
    "\n",
    "## F(x) = 2*x\n",
    "\n",
    "## F(5*3) = 5*F(3)\n",
    "\n",
    "print(2*(5*3))\n",
    "print(5*(2*3))"
   ]
  },
  {
   "cell_type": "code",
   "execution_count": 2,
   "metadata": {},
   "outputs": [
    {
     "name": "stdout",
     "output_type": "stream",
     "text": [
      "18\n",
      "30\n"
     ]
    }
   ],
   "source": [
    "## F(x) = x+3\n",
    "print((5*3)+3)\n",
    "print(5*(3+3))"
   ]
  },
  {
   "cell_type": "markdown",
   "metadata": {},
   "source": [
    "![Multiple](https://betterexplained.com/wp-content/plugins/wp-latexrender/pictures/9ae605d8349f11e71a75b0c9cb849bc6.png)\n",
    "\n",
    "![Multiple2](https://betterexplained.com/wp-content/plugins/wp-latexrender/pictures/495b6ea1b9badbcb0db15ceb21899159.png)"
   ]
  },
  {
   "cell_type": "code",
   "execution_count": null,
   "metadata": {},
   "outputs": [],
   "source": [
    "distance = 10\n",
    "velocity = 1\n",
    "\n",
    "state = [distance, velocity]"
   ]
  },
  {
   "cell_type": "markdown",
   "metadata": {},
   "source": [
    "Our equations as we usually right them:\n",
    "\n",
    "$$\n",
    "\\begin{split}\n",
    "{x_{t+1}} &= \\color{royalblue}{x_t} + \\Delta t &\\color{royalblue}{v_t} \\\\\n",
    "{v_{t+1}} &= &\\color{royalblue}{v_t}\n",
    "\\end{split}\n",
    "$$ "
   ]
  },
  {
   "cell_type": "markdown",
   "metadata": {},
   "source": [
    "The same equations using vectors and matrices:\n",
    "\n",
    "![Matrix](images/matrix_mult.jpg)"
   ]
  },
  {
   "cell_type": "markdown",
   "metadata": {},
   "source": [
    "![Mat](https://betterexplained.com/wp-content/uploads/images//linear-algebra-visualize-20121002-221620.png)\n",
    "\n"
   ]
  },
  {
   "cell_type": "markdown",
   "metadata": {},
   "source": [
    "It's as if we were taking a cup of input data and pouring it into our equations to get the result:\n",
    "\n",
    "![Pour](https://betterexplained.com/wp-content/uploads/images//linear-algebra-pour-20121002-220550.png)"
   ]
  },
  {
   "cell_type": "code",
   "execution_count": 7,
   "metadata": {},
   "outputs": [
    {
     "name": "stdout",
     "output_type": "stream",
     "text": [
      "[4 5 6] \n",
      "\n",
      "[[1 0 0]\n",
      " [0 1 0]\n",
      " [0 0 1]]\n"
     ]
    },
    {
     "data": {
      "text/plain": [
       "array([4, 5, 6])"
      ]
     },
     "execution_count": 7,
     "metadata": {},
     "output_type": "execute_result"
    }
   ],
   "source": [
    "import numpy as np\n",
    "\n",
    "a = np.array([4,5,6])\n",
    "B = np.array([[1,0,0],[0,1,0],[0,0,1]])\n",
    "\n",
    "print(a, '\\n')\n",
    "print(B)\n",
    "a.dot(B)"
   ]
  },
  {
   "cell_type": "code",
   "execution_count": 8,
   "metadata": {},
   "outputs": [
    {
     "name": "stdout",
     "output_type": "stream",
     "text": [
      "[4 5 6] \n",
      "\n",
      "[[1 0 0]\n",
      " [0 0 1]\n",
      " [0 1 0]]\n"
     ]
    },
    {
     "data": {
      "text/plain": [
       "array([4, 6, 5])"
      ]
     },
     "execution_count": 8,
     "metadata": {},
     "output_type": "execute_result"
    }
   ],
   "source": [
    "C = np.array([[1,0,0],[0,0,1],[0,1,0]])\n",
    "\n",
    "print(a, '\\n')\n",
    "print(C)\n",
    "a.dot(C)"
   ]
  },
  {
   "cell_type": "markdown",
   "metadata": {},
   "source": [
    "Our operations matrix transforms our input vector (or input matrix):\n",
    "\n",
    "![Matrix prediction](https://www.bzarg.com/wp-content/uploads/2015/08/gauss_8-300x276.jpg)"
   ]
  },
  {
   "cell_type": "markdown",
   "metadata": {},
   "source": [
    "What about the transpose and the inverse?\n",
    "\n",
    "![Transpose](https://betterexplained.com/wp-content/uploads/linear-algebra/x-transform-x.png)"
   ]
  },
  {
   "cell_type": "code",
   "execution_count": 9,
   "metadata": {},
   "outputs": [
    {
     "data": {
      "text/plain": [
       "0.2"
      ]
     },
     "execution_count": 9,
     "metadata": {},
     "output_type": "execute_result"
    }
   ],
   "source": [
    "5*(1/5)"
   ]
  },
  {
   "cell_type": "markdown",
   "metadata": {},
   "source": [
    "## SLAM"
   ]
  },
  {
   "cell_type": "markdown",
   "metadata": {},
   "source": [
    "![Constraints](images/constraints.jpg)"
   ]
  },
  {
   "cell_type": "markdown",
   "metadata": {},
   "source": [
    "SLAM\n",
    "- Landmark extraction\n",
    "- Data association\n",
    "- State estimation\n",
    "- State update\n",
    "- Landmark update"
   ]
  },
  {
   "cell_type": "markdown",
   "metadata": {},
   "source": [
    "![Process](images/ekf_slam.jpg)\n",
    "\n",
    "Source: https://dspace.mit.edu"
   ]
  },
  {
   "cell_type": "markdown",
   "metadata": {},
   "source": [
    "Previous position:\n",
    "![1](images/1.jpg)\n",
    "\n",
    "Moves and predicts new position:\n",
    "![2](images/2.jpg)\n",
    "\n",
    "Scans environment to find landmarks:\n",
    "![3](images/3.jpg)\n",
    "\n",
    "Uses measurements to update/correct the position estimate:\n",
    "![4](images/4.jpg)"
   ]
  },
  {
   "cell_type": "markdown",
   "metadata": {},
   "source": [
    "**Landmarks** should be:\n",
    "- Easily re-observable\n",
    "- Unique (distinguishable)\n",
    "- Plentiful\n",
    "- Stationary\n"
   ]
  },
  {
   "cell_type": "markdown",
   "metadata": {},
   "source": [
    "What can we use as landmarks here?\n",
    "\n",
    "![Room](https://www.distant-horizons.de/blog/03_last_preparations/apartment.jpg)"
   ]
  },
  {
   "cell_type": "markdown",
   "metadata": {},
   "source": [
    "SLAM steps in more detail:\n",
    "\n",
    "- **Landmark Extraction**\n",
    "\n",
    "- **Data Association**\n",
    "    - We might not re-observe landmarks at every time step\n",
    "    - We might observe something as being a landmakr but fail to ever see it again\n",
    "    - We might wrongly associate a landmark to a previosuly seen landmark\n",
    "\n",
    "- **State Estimation and State Update**\n",
    "\n",
    "- **Landmark Update**"
   ]
  },
  {
   "cell_type": "markdown",
   "metadata": {},
   "source": [
    "The state now becomes more complex, luckily we have our vectors to handle this:\n",
    "\n",
    "![new state](images/state.jpg)"
   ]
  },
  {
   "cell_type": "code",
   "execution_count": null,
   "metadata": {},
   "outputs": [],
   "source": []
  }
 ],
 "metadata": {
  "kernelspec": {
   "display_name": "Python 3",
   "language": "python",
   "name": "python3"
  },
  "language_info": {
   "codemirror_mode": {
    "name": "ipython",
    "version": 3
   },
   "file_extension": ".py",
   "mimetype": "text/x-python",
   "name": "python",
   "nbconvert_exporter": "python",
   "pygments_lexer": "ipython3",
   "version": "3.7.3"
  }
 },
 "nbformat": 4,
 "nbformat_minor": 2
}
